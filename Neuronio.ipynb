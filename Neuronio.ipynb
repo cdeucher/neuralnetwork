{
 "cells": [
  {
   "cell_type": "code",
   "execution_count": 1,
   "metadata": {},
   "outputs": [],
   "source": [
    "#https://medium.com/@lucasoliveiras/introdu%C3%A7%C3%A3o-a-deep-learning-redes-neurais-e-tensorflow-77d8618464e6\n",
    "#https://medium.com/themlblog/a-deep-neural-network-in-tensorflow-9184c3c21ff1\n",
    "\n",
    "import numpy as np\n",
    "import tensorflow as tf"
   ]
  },
  {
   "cell_type": "code",
   "execution_count": 2,
   "metadata": {},
   "outputs": [],
   "source": [
    "binary_i = np.array([[0, 1, 2, 3, 4, 5, 6],[6, 5, 4, 3, 2, 1, 0],\n",
    "                     [1, 2, 3, 4, 5, 6, 7],[7, 6, 5, 4, 3, 2, 1],\n",
    "                     [2, 3, 4, 5, 6, 7, 8],[8, 7, 6, 5, 4, 3, 2],\n",
    "                     [3, 4, 5, 6, 7, 8, 9],[9, 8, 7, 6, 5, 4, 3],\n",
    "                     [4, 5, 6, 7, 8, 9, 10],[10, 9, 8, 7, 6, 5, 4],\n",
    "                     [5, 6, 7, 8, 9, 10, 11],[11, 10, 9, 8, 7, 6, 5],\n",
    "                     [6, 7, 8, 9, 10, 11, 12],[12, 11, 10, 9, 8, 7, 6]])\n",
    "\n",
    "\n",
    "binary_o = np.array([[1], [0], [1], [0],[1], [0], [1], \n",
    "                     [1], [0], [1], [0],[1], [0], [1]])\n",
    "\n",
    "#binary_i = np.array([[0, 1, 2, 3, 4, 5, 6],[6, 5, 4, 3, 2, 1, 0]])\n",
    "#binary_o = np.array([[1], [0]])"
   ]
  },
  {
   "cell_type": "code",
   "execution_count": 3,
   "metadata": {},
   "outputs": [],
   "source": [
    "n_inputs  = 7\n",
    "n_outputs = 1\n",
    "\n",
    "X = tf.placeholder(tf.float32, shape=(None, n_inputs), name=\"X\")\n",
    "Y = tf.placeholder(tf.float32, shape=(None, n_outputs), name=\"y\")"
   ]
  },
  {
   "cell_type": "code",
   "execution_count": 4,
   "metadata": {},
   "outputs": [
    {
     "name": "stdout",
     "output_type": "stream",
     "text": [
      "WARNING:tensorflow:From <ipython-input-4-fcc7ed17b4ef>:5: dense (from tensorflow.python.layers.core) is deprecated and will be removed in a future version.\n",
      "Instructions for updating:\n",
      "Use keras.layers.dense instead.\n",
      "WARNING:tensorflow:From C:\\mnt\\Anaconda3\\lib\\site-packages\\tensorflow\\python\\framework\\op_def_library.py:263: colocate_with (from tensorflow.python.framework.ops) is deprecated and will be removed in a future version.\n",
      "Instructions for updating:\n",
      "Colocations handled automatically by placer.\n"
     ]
    }
   ],
   "source": [
    "n_hidden1 = 16\n",
    "n_hidden2 = 8\n",
    "n_hidden3 = 4\n",
    "##sigmoid, tanh, elu, relu, softmax\n",
    "hidden1   = tf.layers.dense(X, n_hidden1, name=\"hidden1-new\", activation=tf.nn.tanh)\n",
    "hidden2   = tf.layers.dense(hidden1, n_hidden2, name=\"hidden2-new\", activation=tf.nn.tanh)\n",
    "hidden3   = tf.layers.dense(hidden2, n_hidden3, name=\"hidden3-new\", activation=tf.nn.tanh)\n",
    "\n",
    "logits    = tf.layers.dense(hidden3, n_outputs, name=\"outputs-new\", activation=tf.nn.tanh) #tf.nn.sigmoid"
   ]
  },
  {
   "cell_type": "code",
   "execution_count": 5,
   "metadata": {},
   "outputs": [],
   "source": [
    "eta = 0.1\n",
    "n_epochs = 500\n",
    "\n",
    "#https://www.tensorflow.org/api_docs/python/tf/nn/sigmoid_cross_entropy_with_logits\n",
    "# sigmoid_cross_entropy_with_logits\n",
    "cost = tf.reduce_mean(tf.nn.sigmoid_cross_entropy_with_logits(logits=logits, labels=Y))\n",
    "optimizer = tf.train.GradientDescentOptimizer(eta)\n",
    "training_op = optimizer.minimize(cost)"
   ]
  },
  {
   "cell_type": "code",
   "execution_count": 6,
   "metadata": {
    "scrolled": false
   },
   "outputs": [
    {
     "name": "stdout",
     "output_type": "stream",
     "text": [
      "Epoch  0\n",
      "[[-0.26334518]]\n",
      "Epoch  100\n",
      "[[0.7565793]]\n",
      "Epoch  200\n",
      "[[0.76024574]]\n",
      "Epoch  300\n",
      "[[0.7609106]]\n",
      "Epoch  400\n",
      "[[0.76115084]]\n",
      "Treino completo!\n",
      "[[ 0.76126325]\n",
      " [ 0.7332109 ]\n",
      " [ 0.6965585 ]\n",
      " [-0.70551455]]\n"
     ]
    }
   ],
   "source": [
    "test = np.array([[0, 1, 2, 3, 4, 5, 6]])\n",
    "pred = tf.nn.tanh(logits)\n",
    "init = tf.global_variables_initializer()\n",
    "with tf.Session() as sess:\n",
    "    sess.run(init)\n",
    "    for i in range(n_epochs):\n",
    "        sess.run(training_op, feed_dict={X: binary_i, Y: binary_o})\n",
    "        if (i % 100 == 0) :\n",
    "           print(\"Epoch \", i)\n",
    "           prediction2 = sess.run(pred, feed_dict={X: test })\n",
    "           print(prediction2) \n",
    "            \n",
    "    print(\"Treino completo!\")\n",
    "    \n",
    "    \n",
    "    test = np.array([[0, 1, 2, 3, 4, 5, 6],[1, 2, 3, 4, 3, 4, 3],[1, 2, 3, 4, 3, 2, 2],[1, 2, 3, 2, 1, 0, 1]])\n",
    "    prediction2 = sess.run(pred, feed_dict={X: test })\n",
    "    print(prediction2) \n",
    "    \n",
    "    \n",
    "    #vars = tf.trainable_variables()\n",
    "    #vars_vals = sess.run(vars)\n",
    "    #for var, val in zip(vars, vars_vals):\n",
    "    #    print(\"var: {}, value: {}\".format(var.name, val)) \n",
    "    \n",
    "    \n",
    "    "
   ]
  },
  {
   "cell_type": "code",
   "execution_count": null,
   "metadata": {},
   "outputs": [],
   "source": []
  },
  {
   "cell_type": "code",
   "execution_count": null,
   "metadata": {},
   "outputs": [],
   "source": []
  }
 ],
 "metadata": {
  "kernelspec": {
   "display_name": "Python 3",
   "language": "python",
   "name": "python3"
  },
  "language_info": {
   "codemirror_mode": {
    "name": "ipython",
    "version": 3
   },
   "file_extension": ".py",
   "mimetype": "text/x-python",
   "name": "python",
   "nbconvert_exporter": "python",
   "pygments_lexer": "ipython3",
   "version": "3.7.3"
  }
 },
 "nbformat": 4,
 "nbformat_minor": 2
}
