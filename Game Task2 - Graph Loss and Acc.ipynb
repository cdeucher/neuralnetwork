{
 "cells": [
  {
   "cell_type": "code",
   "execution_count": 1,
   "metadata": {},
   "outputs": [
    {
     "name": "stderr",
     "output_type": "stream",
     "text": [
      "Using TensorFlow backend.\n"
     ]
    }
   ],
   "source": [
    "import numpy as np\n",
    "from keras.models import Sequential\n",
    "from keras.layers import Dense\n",
    "from keras import optimizers\n",
    "from keras.models import Model\n",
    "from keras.layers import Input\n",
    "from keras.layers import Dense\n",
    "from keras.utils import plot_model"
   ]
  },
  {
   "cell_type": "code",
   "execution_count": 19,
   "metadata": {},
   "outputs": [
    {
     "name": "stdout",
     "output_type": "stream",
     "text": [
      "_________________________________________________________________\n",
      "Layer (type)                 Output Shape              Param #   \n",
      "=================================================================\n",
      "input_2 (InputLayer)         (None, 7)                 0         \n",
      "_________________________________________________________________\n",
      "dense_3 (Dense)              (None, 16)                128       \n",
      "_________________________________________________________________\n",
      "dense_4 (Dense)              (None, 1)                 17        \n",
      "=================================================================\n",
      "Total params: 145\n",
      "Trainable params: 145\n",
      "Non-trainable params: 0\n",
      "_________________________________________________________________\n",
      "None\n"
     ]
    }
   ],
   "source": [
    "##https://machinelearningmastery.com/keras-functional-api-deep-learning/\n",
    "visible = Input(shape=(7,))\n",
    "hidden1 = Dense(16, activation='sigmoid')(visible)\n",
    "output = Dense(1, activation='sigmoid')(hidden1)\n",
    "model = Model(inputs=visible, outputs=output)\n",
    "\n",
    "# summarize layers\n",
    "print(model.summary())\n",
    "# plot graph\n",
    "plot_model(model, to_file='multilayer_perceptron_graph.png')"
   ]
  },
  {
   "cell_type": "code",
   "execution_count": 20,
   "metadata": {},
   "outputs": [
    {
     "data": {
      "image/png": "[encoded data removed]",
      "text/plain": [
       "<PIL.PngImagePlugin.PngImageFile image mode=RGBA size=179x255 at 0x1EDDF6E3278>"
      ]
     },
     "metadata": {},
     "output_type": "display_data"
    }
   ],
   "source": [
    "from IPython.display import display\n",
    "from PIL import Image\n",
    "\n",
    "display(Image.open('multilayer_perceptron_graph.png'))"
   ]
  },
  {
   "cell_type": "code",
   "execution_count": 21,
   "metadata": {},
   "outputs": [],
   "source": [
    "x = np.array([[0, 1, 2, 3, 4, 5, 6],[6, 5, 4, 3, 2, 1, 0],\n",
    "                     [1, 2, 3, 4, 5, 6, 7],[7, 6, 5, 4, 3, 2, 1],\n",
    "                     [2, 3, 4, 5, 6, 7, 8],[8, 7, 6, 5, 4, 3, 2],\n",
    "                     [3, 4, 5, 6, 7, 8, 9],[9, 8, 7, 6, 5, 4, 3],\n",
    "                     [4, 5, 6, 7, 8, 9, 10],[10, 9, 8, 7, 6, 5, 4],\n",
    "                     [5, 6, 7, 8, 9, 10, 11],[11, 10, 9, 8, 7, 6, 5],\n",
    "                     [6, 7, 8, 9, 10, 11, 12],[12, 11, 10, 9, 8, 7, 6]])\n",
    "y = np.array([[1], [0], [1], [0],[1], [0], [1], \n",
    "                     [1], [0], [1], [0],[1], [0], [1]])"
   ]
  },
  {
   "cell_type": "code",
   "execution_count": 22,
   "metadata": {},
   "outputs": [],
   "source": [
    "#https://keras.io/optimizers/\n",
    "sgd = 'sgd' #optimizers.SGD(lr=0.1, clipnorm=1.) #'sgd' #\n",
    "model.compile(loss='binary_crossentropy'            \n",
    "            , optimizer=sgd\n",
    "            , metrics=['accuracy']) "
   ]
  },
  {
   "cell_type": "code",
   "execution_count": 23,
   "metadata": {},
   "outputs": [],
   "source": [
    "history = model.fit(x, y\n",
    "                    , epochs=500\n",
    "                    , batch_size=1 # Number of observations per batch\n",
    "                    , verbose=0 # No output\n",
    "                   )"
   ]
  },
  {
   "cell_type": "code",
   "execution_count": 24,
   "metadata": {},
   "outputs": [
    {
     "name": "stdout",
     "output_type": "stream",
     "text": [
      "14/14 [==============================] - 0s 3ms/step\n",
      "Accuracy: 100.00\n"
     ]
    }
   ],
   "source": [
    "_, accuracy = model.evaluate(x, y)\n",
    "print('Accuracy: %.2f' % (accuracy*100))"
   ]
  },
  {
   "cell_type": "code",
   "execution_count": 34,
   "metadata": {},
   "outputs": [
    {
     "data": {
      "image/png": "[encoded data removed]",
      "text/plain": [
       "<Figure size 432x288 with 1 Axes>"
      ]
     },
     "metadata": {
      "needs_background": "light"
     },
     "output_type": "display_data"
    }
   ],
   "source": [
    "import matplotlib.pyplot as plt\n",
    "\n",
    "#print(history.history.keys())\n",
    "\n",
    "plt.plot(history.history['acc'])\n",
    "plt.plot(history.history['loss'])\n",
    "plt.title('Model accuracy')\n",
    "plt.ylabel('Accuracy')\n",
    "plt.xlabel('Epoch')\n",
    "plt.legend(['acc', 'loss'], loc='upper left')\n",
    "plt.show()"
   ]
  },
  {
   "cell_type": "code",
   "execution_count": 9,
   "metadata": {},
   "outputs": [
    {
     "name": "stdout",
     "output_type": "stream",
     "text": [
      "[0, 1, 2, 3, 4, 5, 6] => 0 (expected 1)\n",
      "[6, 5, 4, 3, 2, 1, 0] => 0 (expected 0)\n"
     ]
    }
   ],
   "source": [
    "for i in range(len(rounded)):\n",
    "    print('%s => %d (expected %d)' % (x[i].tolist(), rounded[i], y[i]))"
   ]
  },
  {
   "cell_type": "code",
   "execution_count": 26,
   "metadata": {},
   "outputs": [
    {
     "name": "stdout",
     "output_type": "stream",
     "text": [
      "predict [0.97882587]\n",
      "[0, 1, 2, 3, 4, 5, 6] => 1 (expected 1)\n",
      "predict [0.02796167]\n",
      "[6, 5, 4, 3, 2, 1, 0] => 0 (expected 0)\n",
      "predict [0.97051895]\n",
      "[1, 2, 3, 4, 5, 6, 7] => 1 (expected 1)\n",
      "predict [0.06402871]\n",
      "[7, 6, 5, 4, 3, 2, 1] => 0 (expected 0)\n"
     ]
    }
   ],
   "source": [
    "test = np.array([[0, 1, 2, 3, 4, 5, 6],[6, 5, 4, 3, 2, 1, 0],[1, 2, 3, 4, 5, 6, 7],[7, 6, 5, 4, 3, 2, 1]])\n",
    "predictions = model.predict(test)\n",
    "rounded = [x for x in predictions]\n",
    "\n",
    "for i in range(len(rounded)):\n",
    "    print('predict',rounded[i])\n",
    "    print('%s => %d (expected %d)' % (x[i].tolist(), np.round(rounded[i]), y[i]))"
   ]
  },
  {
   "cell_type": "code",
   "execution_count": 28,
   "metadata": {},
   "outputs": [
    {
     "name": "stdout",
     "output_type": "stream",
     "text": [
      "predict [0.97051895]\n",
      "[1, 2, 3, 4, 5, 6, 7] => 1\n",
      "predict [0.6653369]\n",
      "[1, 2, 3, 4, 5, 4, 3] => 1\n",
      "predict [0.6898569]\n",
      "[1, 2, 3, 4, 3, 2, 2] => 1\n",
      "predict [0.28811455]\n",
      "[1, 2, 3, 2, 1, 0, 1] => 0\n"
     ]
    }
   ],
   "source": [
    "test = np.array([[ 1, 2, 3, 4, 5, 6, 7 ],[ 1, 2, 3, 4, 5, 4, 3 ],[ 1, 2, 3, 4, 3, 2, 2 ],[ 1, 2, 3, 2, 1, 0, 1 ]])\n",
    "predictions = model.predict(test)\n",
    "rounded = [x for x in predictions]\n",
    "\n",
    "for i in range(len(rounded)):\n",
    "    print('predict',rounded[i])\n",
    "    print('%s => %d' % (test[i].tolist(), np.round(rounded[i])))"
   ]
  },
  {
   "cell_type": "code",
   "execution_count": null,
   "metadata": {},
   "outputs": [],
   "source": []
  },
  {
   "cell_type": "code",
   "execution_count": null,
   "metadata": {},
   "outputs": [],
   "source": []
  }
 ],
 "metadata": {
  "kernelspec": {
   "display_name": "Python 3",
   "language": "python",
   "name": "python3"
  },
  "language_info": {
   "codemirror_mode": {
    "name": "ipython",
    "version": 3
   },
   "file_extension": ".py",
   "mimetype": "text/x-python",
   "name": "python",
   "nbconvert_exporter": "python",
   "pygments_lexer": "ipython3",
   "version": "3.7.3"
  }
 },
 "nbformat": 4,
 "nbformat_minor": 2
}
