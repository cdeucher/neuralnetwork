{
 "cells": [
  {
   "cell_type": "code",
   "execution_count": 1,
   "metadata": {},
   "outputs": [],
   "source": [
    "#https://medium.com/@lucasoliveiras/introdu%C3%A7%C3%A3o-a-deep-learning-redes-neurais-e-tensorflow-77d8618464e6\n",
    "#https://medium.com/themlblog/a-deep-neural-network-in-tensorflow-9184c3c21ff1\n",
    "\n",
    "import numpy as np\n",
    "import tensorflow as tf"
   ]
  },
  {
   "cell_type": "code",
   "execution_count": 2,
   "metadata": {},
   "outputs": [],
   "source": [
    "binary_i = np.array([[0,1,2,3,4,5,6], [1,2,3,4,5, 6, 7],[2,3,4,5, 6, 7, 8],[3,4,5, 6, 7, 8, 9]\n",
    "                    ,[4,5,6,7,8,9,10],[5,6,7,8,9,10,11],[6,7,8,9,10,11,12],[7,8,9,10,11,12,13] \n",
    "                    \n",
    "                     ,[ 6,5,4,3,2,1,0],[ 7, 6,5,4,3,2,1], [8, 7, 6,5,4,3,2],[ 9, 8, 7, 6,5,4,3]\n",
    "                     ,[10,9,8,7,6,5,4],[11,10,9,8,7,6,5],[12,11,10,9,8,7,6],[13,12,11,10,9,8,7]]\n",
    "                   )\n",
    "\n",
    "binary_o = np.array([[1], [1], [1], [1],[1], [1], [1], [1]\n",
    "                     , [0], [0], [0], [0], [0], [0], [0], [0]])"
   ]
  },
  {
   "cell_type": "code",
   "execution_count": 3,
   "metadata": {},
   "outputs": [],
   "source": [
    "X = tf.placeholder(tf.float32, shape=(None, 7), name=\"X\")\n",
    "y = tf.placeholder(tf.float32, shape=(None, 1), name=\"y\")"
   ]
  },
  {
   "cell_type": "code",
   "execution_count": 4,
   "metadata": {},
   "outputs": [
    {
     "name": "stdout",
     "output_type": "stream",
     "text": [
      "WARNING:tensorflow:From <ipython-input-4-3a806d9555b4>:8: dense (from tensorflow.python.layers.core) is deprecated and will be removed in a future version.\n",
      "Instructions for updating:\n",
      "Use keras.layers.dense instead.\n",
      "WARNING:tensorflow:From C:\\mnt\\Anaconda3\\lib\\site-packages\\tensorflow\\python\\framework\\op_def_library.py:263: colocate_with (from tensorflow.python.framework.ops) is deprecated and will be removed in a future version.\n",
      "Instructions for updating:\n",
      "Colocations handled automatically by placer.\n"
     ]
    }
   ],
   "source": [
    "n_inputs  = 7\n",
    "n_outputs = 1\n",
    "\n",
    "n_hidden1 = 16\n",
    "n_hidden2 = 2\n",
    "n_hidden3 = 1\n",
    "\n",
    "hidden1   = tf.layers.dense(X, n_hidden1, name=\"hidden1-new\", activation=tf.nn.tanh)\n",
    "#hidden2   = tf.layers.dense(hidden1, n_hidden2, name=\"hidden2-new\", activation=tf.nn.tanh)\n",
    "#hidden3   = tf.layers.dense(hidden2, n_hidden3, name=\"hidden3-new\", activation=tf.nn.sigmoid)\n",
    "\n",
    "logits    = tf.layers.dense(hidden1, n_outputs, name=\"outputs-new\", activation=tf.nn.sigmoid)"
   ]
  },
  {
   "cell_type": "code",
   "execution_count": 11,
   "metadata": {},
   "outputs": [],
   "source": [
    "eta = 0.1\n",
    "n_epochs = 500\n",
    "cost = tf.reduce_mean(tf.nn.sigmoid_cross_entropy_with_logits(logits=logits, labels=y))\n",
    "#train = tf.train.AdamOptimizer(eta).minimize(cost)\n",
    "optimizer = tf.train.AdamOptimizer(eta)\n",
    "training_op = optimizer.minimize(cost)"
   ]
  },
  {
   "cell_type": "code",
   "execution_count": 12,
   "metadata": {},
   "outputs": [
    {
     "name": "stdout",
     "output_type": "stream",
     "text": [
      "Treino completo!\n",
      "[[0.7310462 ]\n",
      " [0.73104316]\n",
      " [0.7073637 ]\n",
      " [0.50043046]]\n"
     ]
    }
   ],
   "source": [
    "pred = tf.nn.sigmoid(logits)\n",
    "init = tf.global_variables_initializer()\n",
    "with tf.Session() as sess:\n",
    "    sess.run(init)\n",
    "    for i in range(n_epochs):\n",
    "        sess.run(training_op, feed_dict={X: binary_i, y: binary_o})\n",
    "    print(\"Treino completo!\")\n",
    "    \n",
    "    #prediction = sess.run(pred, feed_dict={X: binary_i})\n",
    "    #print(\"Porcentagem: \")\n",
    "    #print(prediction)\n",
    "    #print(\"Arredondando\")\n",
    "    #print(np.round(prediction))\n",
    "    \n",
    "    test = np.array([[1, 2, 3, 4, 5, 6, 7],[1, 2, 3, 4, 5, 4, 3],[1, 2, 3, 4, 3, 2, 2],[1, 2, 3, 2, 1, 0, 1]])\n",
    "    prediction2 = sess.run(pred, feed_dict={X: test })\n",
    "    print(prediction2)    "
   ]
  },
  {
   "cell_type": "code",
   "execution_count": null,
   "metadata": {},
   "outputs": [],
   "source": []
  }
 ],
 "metadata": {
  "kernelspec": {
   "display_name": "Python 3",
   "language": "python",
   "name": "python3"
  },
  "language_info": {
   "codemirror_mode": {
    "name": "ipython",
    "version": 3
   },
   "file_extension": ".py",
   "mimetype": "text/x-python",
   "name": "python",
   "nbconvert_exporter": "python",
   "pygments_lexer": "ipython3",
   "version": "3.7.3"
  }
 },
 "nbformat": 4,
 "nbformat_minor": 2
}
