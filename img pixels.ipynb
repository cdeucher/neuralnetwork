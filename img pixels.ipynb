{
 "cells": [
  {
   "cell_type": "code",
   "execution_count": 6,
   "metadata": {},
   "outputs": [],
   "source": [
    "from PIL import Image\n",
    "import numpy"
   ]
  },
  {
   "cell_type": "code",
   "execution_count": 16,
   "metadata": {},
   "outputs": [
    {
     "name": "stdout",
     "output_type": "stream",
     "text": [
      "Image data RGBA 25 15\n",
      "Image pixel (63, 56, 46, 255)\n",
      "[[[ 63  56  46 255]\n",
      "  [ 64  57  46 255]\n",
      "  [ 66  59  48 255]\n",
      "  ...\n",
      "  [ 60  53  44 255]\n",
      "  [ 59  51  42 255]\n",
      "  [ 58  50  42 255]]\n",
      "\n",
      " [[ 57  50  41 255]\n",
      "  [ 56  49  41 255]\n",
      "  [ 56  49  40 255]\n",
      "  ...\n",
      "  [ 69  62  51 255]\n",
      "  [ 69  62  51 255]\n",
      "  [ 68  61  50 255]]\n",
      "\n",
      " [[ 68  61  50 255]\n",
      "  [ 67  60  49 255]\n",
      "  [ 65  58  48 255]\n",
      "  ...\n",
      "  [ 54  46  38 255]\n",
      "  [ 54  46  38 255]\n",
      "  [ 53  46  38 255]]\n",
      "\n",
      " ...\n",
      "\n",
      " [[ 49  43  34 255]\n",
      "  [ 48  43  34 255]\n",
      "  [ 48  42  34 255]\n",
      "  ...\n",
      "  [ 43  38  30 255]\n",
      "  [ 44  39  30 255]\n",
      "  [ 45  39  31 255]]\n",
      "\n",
      " [[ 45  39  31 255]\n",
      "  [ 44  38  30 255]\n",
      "  [ 44  37  30 255]\n",
      "  ...\n",
      "  [ 47  56  24 255]\n",
      "  [ 78  89  37 255]\n",
      "  [ 75  81  32 255]]\n",
      "\n",
      " [[ 73  79  32 255]\n",
      "  [ 54  59  20 255]\n",
      "  [ 64  69  21 255]\n",
      "  ...\n",
      "  [ 59  65  22 255]\n",
      "  [ 61  65  22 255]\n",
      "  [ 76  81  29 255]]]\n"
     ]
    }
   ],
   "source": [
    "channels = 4\n",
    "\n",
    "image = Image.open('img/22.png', 'r')\n",
    "width, height = image.size\n",
    "\n",
    "print('Image data',image.mode, width, height)\n",
    "\n",
    "pixel_values = list(image.getdata())\n",
    "\n",
    "print('Image pixel',pixel_values[0])\n",
    "\n",
    "if image.mode == 'RGB':\n",
    "    channels = 3\n",
    "elif image.mode == 'L':\n",
    "    channels = 1\n",
    "elif image.mode == 'RGBA ':\n",
    "    channels = 4\n",
    "pixel_values = numpy.array(pixel_values).reshape((width, height, channels))\n",
    "\n",
    "print(pixel_values)"
   ]
  },
  {
   "cell_type": "code",
   "execution_count": null,
   "metadata": {},
   "outputs": [],
   "source": []
  }
 ],
 "metadata": {
  "kernelspec": {
   "display_name": "Python 3",
   "language": "python",
   "name": "python3"
  },
  "language_info": {
   "codemirror_mode": {
    "name": "ipython",
    "version": 3
   },
   "file_extension": ".py",
   "mimetype": "text/x-python",
   "name": "python",
   "nbconvert_exporter": "python",
   "pygments_lexer": "ipython3",
   "version": "3.7.3"
  }
 },
 "nbformat": 4,
 "nbformat_minor": 2
}
